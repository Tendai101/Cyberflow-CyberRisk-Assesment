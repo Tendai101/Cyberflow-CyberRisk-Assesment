{
 "cells": [
  {
   "cell_type": "markdown",
   "metadata": {},
   "source": [
    "### Student Details\n",
    "\n",
    "Student name: Tendai Chaka\n",
    "\n",
    "Student ID: 20041829"
   ]
  },
  {
   "cell_type": "markdown",
   "metadata": {
    "deletable": false,
    "editable": false,
    "tags": []
   },
   "source": [
    "# Description\n",
    "\n",
    "In this task, we will use NSL-KDD dataset. We will use the NSL-KDD dataset to do multi-class classification. This dataset is quite large, and the training time can be quite long if you use the whole thing so that we will use just 20% of the dataset. If you completed the network security task in the previous activity (i.e., if you are in the BSc in CyberSecurity), you will have seen this already. For those that have not seen this dataset before, you will also be dealing with many more dimensions than you have done up to now, but you will see that the machine learning techniques we have employed up to now scale nicely to many dimensions.\n",
    "\n",
    "The aim of the NSL-KDD dataset is to enable training a machine learning algorithm to identify different types of cyber attacks based on network trafiic features. The different attacks can be: denial-of-service (dos), Remote to user (r2l), probing attack (probe), User-to-Root (U2R). I hope this means something to the CyberSecurity cohort. For the rest of us, don't worry, we can just see it as a generic classification task.\n",
    "\n",
    "The data is already split into training and testing. It also contains a mix of different types of features - categorical, binary, and numerical features. However, in this task, we are going to investigate only the numerical features. So, in the code just below, I have stripped out all of the non-numerical features, and provide you with the numpy arrays `train_X`, `train_Y`, `test_X`, and `test_Y`.\n",
    "\n",
    "Our aim will be to use the available data to train an algorithm to predict the type of attack that is occurring. We will then see if we can get similar performance by using fewer features. Undoubtedly, unless there is a feature that has no influence *at all* on the output, we will see *some* degradation in performance. However, as discussed in the material, there are significant gains to be made by using fewer features."
   ]
  },
  {
   "cell_type": "code",
   "execution_count": 2,
   "metadata": {
    "deletable": false,
    "editable": false,
    "tags": []
   },
   "outputs": [
    {
     "name": "stdout",
     "output_type": "stream",
     "text": [
      "(25192, 31)\n",
      "(22544, 31)\n"
     ]
    }
   ],
   "source": [
    "####################\n",
    "# CODE PROVIDED\n",
    "\n",
    "# This code is a little bit complicated, and I don't want you to get bogged down in reading from csv files.\n",
    "# This code reads from the CSV files, and creates the training and test sets for both binary and multi-class\n",
    "\n",
    "# Read the data\n",
    "import pandas as pd\n",
    "test_df = pd.read_csv('KDDTest_CE4317.csv', header=0)\n",
    "train_df = pd.read_csv('KDDTrain_CE4317.csv', header=0)\n",
    "\n",
    "# Differentiating between nominal, binary, and numeric features\n",
    "# Note, we only need to do this for the train data, as the train and test have the same feature names (of course)\n",
    "col_names = train_df.columns.values    \n",
    "\n",
    "nominal_idx = [1, 2, 3]\n",
    "binary_idx = [6, 11, 13, 14, 19, 20]\n",
    "numeric_idx = list(set(range(40)).difference(nominal_idx).difference(binary_idx))\n",
    "\n",
    "numeric_cols = col_names[numeric_idx].tolist()   # The columns that have numerical features\n",
    "\n",
    "train_Y = train_df['attack_category']\n",
    "test_Y = test_df['attack_category']\n",
    "\n",
    "# In this case, we are only going to use the numeric columns for our predictions\n",
    "train_X = train_df[numeric_cols]   \n",
    "test_X = test_df[numeric_cols]\n",
    "\n",
    "print(train_X.shape)\n",
    "print(test_X.shape)"
   ]
  },
  {
   "cell_type": "markdown",
   "metadata": {
    "deletable": false,
    "editable": false,
    "tags": []
   },
   "source": [
    "Let's have a quick look at what some of the samples look like"
   ]
  },
  {
   "cell_type": "code",
   "execution_count": 3,
   "metadata": {
    "deletable": false,
    "editable": false,
    "tags": []
   },
   "outputs": [
    {
     "data": {
      "text/html": [
       "<div>\n",
       "<style scoped>\n",
       "    .dataframe tbody tr th:only-of-type {\n",
       "        vertical-align: middle;\n",
       "    }\n",
       "\n",
       "    .dataframe tbody tr th {\n",
       "        vertical-align: top;\n",
       "    }\n",
       "\n",
       "    .dataframe thead th {\n",
       "        text-align: right;\n",
       "    }\n",
       "</style>\n",
       "<table border=\"1\" class=\"dataframe\">\n",
       "  <thead>\n",
       "    <tr style=\"text-align: right;\">\n",
       "      <th></th>\n",
       "      <th>duration</th>\n",
       "      <th>src_bytes</th>\n",
       "      <th>dst_bytes</th>\n",
       "      <th>wrong_fragment</th>\n",
       "      <th>urgent</th>\n",
       "      <th>hot</th>\n",
       "      <th>num_failed_logins</th>\n",
       "      <th>num_compromised</th>\n",
       "      <th>num_root</th>\n",
       "      <th>num_file_creations</th>\n",
       "      <th>...</th>\n",
       "      <th>dst_host_count</th>\n",
       "      <th>dst_host_srv_count</th>\n",
       "      <th>dst_host_same_srv_rate</th>\n",
       "      <th>dst_host_diff_srv_rate</th>\n",
       "      <th>dst_host_same_src_port_rate</th>\n",
       "      <th>dst_host_srv_diff_host_rate</th>\n",
       "      <th>dst_host_serror_rate</th>\n",
       "      <th>dst_host_srv_serror_rate</th>\n",
       "      <th>dst_host_rerror_rate</th>\n",
       "      <th>dst_host_srv_rerror_rate</th>\n",
       "    </tr>\n",
       "  </thead>\n",
       "  <tbody>\n",
       "    <tr>\n",
       "      <th>0</th>\n",
       "      <td>0</td>\n",
       "      <td>491</td>\n",
       "      <td>0</td>\n",
       "      <td>0</td>\n",
       "      <td>0</td>\n",
       "      <td>0</td>\n",
       "      <td>0</td>\n",
       "      <td>0</td>\n",
       "      <td>0</td>\n",
       "      <td>0</td>\n",
       "      <td>...</td>\n",
       "      <td>150</td>\n",
       "      <td>25</td>\n",
       "      <td>0.17</td>\n",
       "      <td>0.03</td>\n",
       "      <td>0.17</td>\n",
       "      <td>0.00</td>\n",
       "      <td>0.00</td>\n",
       "      <td>0.00</td>\n",
       "      <td>0.05</td>\n",
       "      <td>0.00</td>\n",
       "    </tr>\n",
       "    <tr>\n",
       "      <th>1</th>\n",
       "      <td>0</td>\n",
       "      <td>146</td>\n",
       "      <td>0</td>\n",
       "      <td>0</td>\n",
       "      <td>0</td>\n",
       "      <td>0</td>\n",
       "      <td>0</td>\n",
       "      <td>0</td>\n",
       "      <td>0</td>\n",
       "      <td>0</td>\n",
       "      <td>...</td>\n",
       "      <td>255</td>\n",
       "      <td>1</td>\n",
       "      <td>0.00</td>\n",
       "      <td>0.60</td>\n",
       "      <td>0.88</td>\n",
       "      <td>0.00</td>\n",
       "      <td>0.00</td>\n",
       "      <td>0.00</td>\n",
       "      <td>0.00</td>\n",
       "      <td>0.00</td>\n",
       "    </tr>\n",
       "    <tr>\n",
       "      <th>2</th>\n",
       "      <td>0</td>\n",
       "      <td>0</td>\n",
       "      <td>0</td>\n",
       "      <td>0</td>\n",
       "      <td>0</td>\n",
       "      <td>0</td>\n",
       "      <td>0</td>\n",
       "      <td>0</td>\n",
       "      <td>0</td>\n",
       "      <td>0</td>\n",
       "      <td>...</td>\n",
       "      <td>255</td>\n",
       "      <td>26</td>\n",
       "      <td>0.10</td>\n",
       "      <td>0.05</td>\n",
       "      <td>0.00</td>\n",
       "      <td>0.00</td>\n",
       "      <td>1.00</td>\n",
       "      <td>1.00</td>\n",
       "      <td>0.00</td>\n",
       "      <td>0.00</td>\n",
       "    </tr>\n",
       "    <tr>\n",
       "      <th>3</th>\n",
       "      <td>0</td>\n",
       "      <td>232</td>\n",
       "      <td>8153</td>\n",
       "      <td>0</td>\n",
       "      <td>0</td>\n",
       "      <td>0</td>\n",
       "      <td>0</td>\n",
       "      <td>0</td>\n",
       "      <td>0</td>\n",
       "      <td>0</td>\n",
       "      <td>...</td>\n",
       "      <td>30</td>\n",
       "      <td>255</td>\n",
       "      <td>1.00</td>\n",
       "      <td>0.00</td>\n",
       "      <td>0.03</td>\n",
       "      <td>0.04</td>\n",
       "      <td>0.03</td>\n",
       "      <td>0.01</td>\n",
       "      <td>0.00</td>\n",
       "      <td>0.01</td>\n",
       "    </tr>\n",
       "    <tr>\n",
       "      <th>4</th>\n",
       "      <td>0</td>\n",
       "      <td>199</td>\n",
       "      <td>420</td>\n",
       "      <td>0</td>\n",
       "      <td>0</td>\n",
       "      <td>0</td>\n",
       "      <td>0</td>\n",
       "      <td>0</td>\n",
       "      <td>0</td>\n",
       "      <td>0</td>\n",
       "      <td>...</td>\n",
       "      <td>255</td>\n",
       "      <td>255</td>\n",
       "      <td>1.00</td>\n",
       "      <td>0.00</td>\n",
       "      <td>0.00</td>\n",
       "      <td>0.00</td>\n",
       "      <td>0.00</td>\n",
       "      <td>0.00</td>\n",
       "      <td>0.00</td>\n",
       "      <td>0.00</td>\n",
       "    </tr>\n",
       "    <tr>\n",
       "      <th>...</th>\n",
       "      <td>...</td>\n",
       "      <td>...</td>\n",
       "      <td>...</td>\n",
       "      <td>...</td>\n",
       "      <td>...</td>\n",
       "      <td>...</td>\n",
       "      <td>...</td>\n",
       "      <td>...</td>\n",
       "      <td>...</td>\n",
       "      <td>...</td>\n",
       "      <td>...</td>\n",
       "      <td>...</td>\n",
       "      <td>...</td>\n",
       "      <td>...</td>\n",
       "      <td>...</td>\n",
       "      <td>...</td>\n",
       "      <td>...</td>\n",
       "      <td>...</td>\n",
       "      <td>...</td>\n",
       "      <td>...</td>\n",
       "      <td>...</td>\n",
       "    </tr>\n",
       "    <tr>\n",
       "      <th>25187</th>\n",
       "      <td>0</td>\n",
       "      <td>0</td>\n",
       "      <td>0</td>\n",
       "      <td>0</td>\n",
       "      <td>0</td>\n",
       "      <td>0</td>\n",
       "      <td>0</td>\n",
       "      <td>0</td>\n",
       "      <td>0</td>\n",
       "      <td>0</td>\n",
       "      <td>...</td>\n",
       "      <td>255</td>\n",
       "      <td>7</td>\n",
       "      <td>0.03</td>\n",
       "      <td>0.06</td>\n",
       "      <td>0.00</td>\n",
       "      <td>0.00</td>\n",
       "      <td>0.00</td>\n",
       "      <td>0.00</td>\n",
       "      <td>1.00</td>\n",
       "      <td>1.00</td>\n",
       "    </tr>\n",
       "    <tr>\n",
       "      <th>25188</th>\n",
       "      <td>0</td>\n",
       "      <td>334</td>\n",
       "      <td>0</td>\n",
       "      <td>0</td>\n",
       "      <td>0</td>\n",
       "      <td>0</td>\n",
       "      <td>0</td>\n",
       "      <td>0</td>\n",
       "      <td>0</td>\n",
       "      <td>0</td>\n",
       "      <td>...</td>\n",
       "      <td>1</td>\n",
       "      <td>39</td>\n",
       "      <td>1.00</td>\n",
       "      <td>0.00</td>\n",
       "      <td>1.00</td>\n",
       "      <td>0.18</td>\n",
       "      <td>0.00</td>\n",
       "      <td>0.00</td>\n",
       "      <td>0.00</td>\n",
       "      <td>0.00</td>\n",
       "    </tr>\n",
       "    <tr>\n",
       "      <th>25189</th>\n",
       "      <td>0</td>\n",
       "      <td>0</td>\n",
       "      <td>0</td>\n",
       "      <td>0</td>\n",
       "      <td>0</td>\n",
       "      <td>0</td>\n",
       "      <td>0</td>\n",
       "      <td>0</td>\n",
       "      <td>0</td>\n",
       "      <td>0</td>\n",
       "      <td>...</td>\n",
       "      <td>255</td>\n",
       "      <td>13</td>\n",
       "      <td>0.05</td>\n",
       "      <td>0.07</td>\n",
       "      <td>0.00</td>\n",
       "      <td>0.00</td>\n",
       "      <td>0.00</td>\n",
       "      <td>0.00</td>\n",
       "      <td>1.00</td>\n",
       "      <td>1.00</td>\n",
       "    </tr>\n",
       "    <tr>\n",
       "      <th>25190</th>\n",
       "      <td>0</td>\n",
       "      <td>0</td>\n",
       "      <td>0</td>\n",
       "      <td>0</td>\n",
       "      <td>0</td>\n",
       "      <td>0</td>\n",
       "      <td>0</td>\n",
       "      <td>0</td>\n",
       "      <td>0</td>\n",
       "      <td>0</td>\n",
       "      <td>...</td>\n",
       "      <td>255</td>\n",
       "      <td>20</td>\n",
       "      <td>0.08</td>\n",
       "      <td>0.06</td>\n",
       "      <td>0.00</td>\n",
       "      <td>0.00</td>\n",
       "      <td>1.00</td>\n",
       "      <td>1.00</td>\n",
       "      <td>0.00</td>\n",
       "      <td>0.00</td>\n",
       "    </tr>\n",
       "    <tr>\n",
       "      <th>25191</th>\n",
       "      <td>0</td>\n",
       "      <td>0</td>\n",
       "      <td>0</td>\n",
       "      <td>0</td>\n",
       "      <td>0</td>\n",
       "      <td>0</td>\n",
       "      <td>0</td>\n",
       "      <td>0</td>\n",
       "      <td>0</td>\n",
       "      <td>0</td>\n",
       "      <td>...</td>\n",
       "      <td>255</td>\n",
       "      <td>49</td>\n",
       "      <td>0.19</td>\n",
       "      <td>0.03</td>\n",
       "      <td>0.01</td>\n",
       "      <td>0.00</td>\n",
       "      <td>1.00</td>\n",
       "      <td>1.00</td>\n",
       "      <td>0.00</td>\n",
       "      <td>0.00</td>\n",
       "    </tr>\n",
       "  </tbody>\n",
       "</table>\n",
       "<p>25192 rows × 31 columns</p>\n",
       "</div>"
      ],
      "text/plain": [
       "       duration  src_bytes  dst_bytes  wrong_fragment  urgent  hot  \\\n",
       "0             0        491          0               0       0    0   \n",
       "1             0        146          0               0       0    0   \n",
       "2             0          0          0               0       0    0   \n",
       "3             0        232       8153               0       0    0   \n",
       "4             0        199        420               0       0    0   \n",
       "...         ...        ...        ...             ...     ...  ...   \n",
       "25187         0          0          0               0       0    0   \n",
       "25188         0        334          0               0       0    0   \n",
       "25189         0          0          0               0       0    0   \n",
       "25190         0          0          0               0       0    0   \n",
       "25191         0          0          0               0       0    0   \n",
       "\n",
       "       num_failed_logins  num_compromised  num_root  num_file_creations  ...  \\\n",
       "0                      0                0         0                   0  ...   \n",
       "1                      0                0         0                   0  ...   \n",
       "2                      0                0         0                   0  ...   \n",
       "3                      0                0         0                   0  ...   \n",
       "4                      0                0         0                   0  ...   \n",
       "...                  ...              ...       ...                 ...  ...   \n",
       "25187                  0                0         0                   0  ...   \n",
       "25188                  0                0         0                   0  ...   \n",
       "25189                  0                0         0                   0  ...   \n",
       "25190                  0                0         0                   0  ...   \n",
       "25191                  0                0         0                   0  ...   \n",
       "\n",
       "       dst_host_count  dst_host_srv_count  dst_host_same_srv_rate  \\\n",
       "0                 150                  25                    0.17   \n",
       "1                 255                   1                    0.00   \n",
       "2                 255                  26                    0.10   \n",
       "3                  30                 255                    1.00   \n",
       "4                 255                 255                    1.00   \n",
       "...               ...                 ...                     ...   \n",
       "25187             255                   7                    0.03   \n",
       "25188               1                  39                    1.00   \n",
       "25189             255                  13                    0.05   \n",
       "25190             255                  20                    0.08   \n",
       "25191             255                  49                    0.19   \n",
       "\n",
       "       dst_host_diff_srv_rate  dst_host_same_src_port_rate  \\\n",
       "0                        0.03                         0.17   \n",
       "1                        0.60                         0.88   \n",
       "2                        0.05                         0.00   \n",
       "3                        0.00                         0.03   \n",
       "4                        0.00                         0.00   \n",
       "...                       ...                          ...   \n",
       "25187                    0.06                         0.00   \n",
       "25188                    0.00                         1.00   \n",
       "25189                    0.07                         0.00   \n",
       "25190                    0.06                         0.00   \n",
       "25191                    0.03                         0.01   \n",
       "\n",
       "       dst_host_srv_diff_host_rate  dst_host_serror_rate  \\\n",
       "0                             0.00                  0.00   \n",
       "1                             0.00                  0.00   \n",
       "2                             0.00                  1.00   \n",
       "3                             0.04                  0.03   \n",
       "4                             0.00                  0.00   \n",
       "...                            ...                   ...   \n",
       "25187                         0.00                  0.00   \n",
       "25188                         0.18                  0.00   \n",
       "25189                         0.00                  0.00   \n",
       "25190                         0.00                  1.00   \n",
       "25191                         0.00                  1.00   \n",
       "\n",
       "       dst_host_srv_serror_rate  dst_host_rerror_rate  \\\n",
       "0                          0.00                  0.05   \n",
       "1                          0.00                  0.00   \n",
       "2                          1.00                  0.00   \n",
       "3                          0.01                  0.00   \n",
       "4                          0.00                  0.00   \n",
       "...                         ...                   ...   \n",
       "25187                      0.00                  1.00   \n",
       "25188                      0.00                  0.00   \n",
       "25189                      0.00                  1.00   \n",
       "25190                      1.00                  0.00   \n",
       "25191                      1.00                  0.00   \n",
       "\n",
       "       dst_host_srv_rerror_rate  \n",
       "0                          0.00  \n",
       "1                          0.00  \n",
       "2                          0.00  \n",
       "3                          0.01  \n",
       "4                          0.00  \n",
       "...                         ...  \n",
       "25187                      1.00  \n",
       "25188                      0.00  \n",
       "25189                      1.00  \n",
       "25190                      0.00  \n",
       "25191                      0.00  \n",
       "\n",
       "[25192 rows x 31 columns]"
      ]
     },
     "execution_count": 3,
     "metadata": {},
     "output_type": "execute_result"
    }
   ],
   "source": [
    "# Let's look at the data\n",
    "train_X"
   ]
  },
  {
   "cell_type": "markdown",
   "metadata": {},
   "source": [
    "And let's look quickly at how many samples in each attack category we have"
   ]
  },
  {
   "cell_type": "code",
   "execution_count": 4,
   "metadata": {
    "deletable": false,
    "editable": false,
    "tags": []
   },
   "outputs": [
    {
     "data": {
      "text/plain": [
       "Text(0, 0.5, 'Attack category')"
      ]
     },
     "execution_count": 4,
     "metadata": {},
     "output_type": "execute_result"
    },
    {
     "data": {
      "image/png": "[encoded data removed]",
      "text/plain": [
       "<Figure size 1000x500 with 1 Axes>"
      ]
     },
     "metadata": {},
     "output_type": "display_data"
    }
   ],
   "source": [
    "import matplotlib.pyplot as plt\n",
    "\n",
    "train_attack_cats = train_df['attack_category'].value_counts()\n",
    "test_attack_cats = test_df['attack_category'].value_counts()\n",
    "train_attack_cats.plot(kind='barh', figsize=(10,5), fontsize=15)\n",
    "plt.xlabel(\"Number of samples\", fontsize=20)\n",
    "plt.ylabel(\"Attack category\", fontsize=20)"
   ]
  },
  {
   "cell_type": "markdown",
   "metadata": {
    "deletable": false,
    "editable": false,
    "tags": []
   },
   "source": [
    "# Task 1- Feature Selection"
   ]
  },
  {
   "cell_type": "markdown",
   "metadata": {
    "deletable": false,
    "editable": false,
    "tags": []
   },
   "source": [
    "### Part 1: Support Vector Classification\n",
    "\n",
    "Here, we will use Support Vector Classification to predict the type of network attack that is occurriing, given a set of features. We will use a simple linear SVM Classification, and use the default parameters, as we're not investigating the properties of SVM, but rather the properties of data.\n",
    "\n",
    "#### Task:\n",
    "1. Apply the [`StandardScaler`](https://scikit-learn.org/stable/modules/generated/sklearn.preprocessing.StandardScaler.html) to the training and test data. Remember, train on the `*_train` data, but apply to both the `*_train` and the `*_test` data\n",
    "1. Train a linear Support Vector Classification, using [`sklearn`'s `svm.SVC` class](https://scikit-learn.org/stable/modules/generated/sklearn.svm.SVC.html). All parameters can be left at default except `kernel='linear'`\n",
    "1. Predict the category of the network attack\n",
    "1. Print the [confusion_matrix](https://scikit-learn.org/stable/modules/generated/sklearn.metrics.confusion_matrix.html) and the [accuracy score](https://scikit-learn.org/stable/modules/generated/sklearn.metrics.accuracy_score.html)\n",
    "1. Discuss the confusion matrix briefly\n",
    "\n",
    "You should see that the linear SVM Classification isn't too bad. You should get an accuracy around 0.73\n"
   ]
  },
  {
   "cell_type": "markdown",
   "metadata": {
    "deletable": false,
    "editable": false,
    "tags": []
   },
   "source": [
    "<span style=\"color:red\">Insert your code below</span>."
   ]
  },
  {
   "cell_type": "code",
   "execution_count": 5,
   "metadata": {},
   "outputs": [
    {
     "name": "stdout",
     "output_type": "stream",
     "text": [
      "[[-0.11355066 -0.00988885 -0.03930979 ... -0.62736475 -0.22166806\n",
      "  -0.37428075]\n",
      " [-0.11355066 -0.01003196 -0.03930979 ... -0.62736475 -0.38513984\n",
      "  -0.37428075]\n",
      " [-0.11355066 -0.01009252 -0.03930979 ...  1.61445359 -0.38513984\n",
      "  -0.37428075]\n",
      " ...\n",
      " [-0.11355066 -0.01009252 -0.03930979 ... -0.62736475  2.88429591\n",
      "   2.77704096]\n",
      " [-0.11355066 -0.01009252 -0.03930979 ...  1.61445359 -0.38513984\n",
      "  -0.37428075]\n",
      " [-0.11355066 -0.01009252 -0.03930979 ...  1.61445359 -0.38513984\n",
      "  -0.37428075]]\n",
      "[[-0.11355066 -0.01009252 -0.03930979 ... -0.62736475  2.88429591\n",
      "   2.77704096]\n",
      " [-0.11355066 -0.01009252 -0.03930979 ... -0.62736475  2.88429591\n",
      "   2.77704096]\n",
      " [-0.1128062  -0.00470708 -0.03930979 ... -0.62736475 -0.38513984\n",
      "  -0.37428075]\n",
      " ...\n",
      " [-0.11355066  0.01253107  0.05428582 ... -0.62736475 -0.15627934\n",
      "  -0.15368823]\n",
      " [-0.11355066 -0.0100751  -0.03883697 ... -0.62736475 -0.38513984\n",
      "  -0.37428075]\n",
      " [-0.11355066 -0.01009252 -0.03930979 ... -0.62736475  1.05341189\n",
      "   2.77704096]]\n"
     ]
    }
   ],
   "source": [
    "from sklearn.preprocessing import StandardScaler\n",
    "\n",
    "####################################\n",
    "# Your code here\n",
    "# Initialize the StandardScaler\n",
    "scaler = StandardScaler()\n",
    "\n",
    "# Fit the scaler on the training data and transform both training and test data\n",
    "train_X_scaled = scaler.fit_transform(train_X)\n",
    "test_X_scaled = scaler.transform(test_X)\n",
    "\n",
    "print(train_X_scaled)\n",
    "print(test_X_scaled)\n"
   ]
  },
  {
   "cell_type": "code",
   "execution_count": 6,
   "metadata": {},
   "outputs": [
    {
     "name": "stdout",
     "output_type": "stream",
     "text": [
      "Confusion Matrix:\n",
      "[[9085  472  150    4    0]\n",
      " [2100 5521   15    0    0]\n",
      " [ 431  128 1864    0    0]\n",
      " [2544    5   23    2    0]\n",
      " [ 156    0   38    1    5]]\n",
      "Accuracy Score: 0.7308818310858765\n"
     ]
    }
   ],
   "source": [
    "from sklearn.svm import SVC\n",
    "from sklearn.metrics import confusion_matrix, accuracy_score\n",
    "\n",
    "####################\n",
    "# YOUR CODE\n",
    "# Create an SVC model with a linear kernel\n",
    "model = SVC(kernel='linear')\n",
    "\n",
    "# Fit the model to the training data\n",
    "model.fit(train_X_scaled, train_Y)\n",
    "\n",
    "# Prediction\n",
    "prediction = model.predict(test_X_scaled)\n",
    "\n",
    "# Calculate the confusion matrix\n",
    "confusion = confusion_matrix(test_Y, prediction)\n",
    "\n",
    "# Calculate the accuracy score\n",
    "accuracy = accuracy_score(test_Y, prediction)\n",
    "\n",
    "# Print the confusion matrix and accuracy score\n",
    "print(\"Confusion Matrix:\")\n",
    "print(confusion)\n",
    "\n",
    "print(\"Accuracy Score:\", accuracy)\n",
    "\n"
   ]
  },
  {
   "cell_type": "markdown",
   "metadata": {
    "deletable": false,
    "editable": false,
    "tags": []
   },
   "source": [
    "<span style=\"color:red\">Insert your text answers below</span>."
   ]
  },
  {
   "cell_type": "markdown",
   "metadata": {},
   "source": [
    "5. The number of correctly classified instances (True Positives) is fairly high in Class 1 (9085), Class 2 (5521) and Class 3 (1864). However Class 4 and 5 have very low true positives with 2 and 5 respectively. The class imbalance is evident, especially for Class 1, which has a large number of true positives. Other classes, particularly Class 4 and Class 5, have relatively fewer correct predictions."
   ]
  },
  {
   "cell_type": "markdown",
   "metadata": {
    "deletable": false,
    "editable": false,
    "tags": []
   },
   "source": [
    "### Part 2: Feature Variance\n",
    "\n",
    "Feature variance is a rather simple way of predicting if a given feature will have influence on the outcome of a trained model. The principle is that, if a feature has low variance, it cannot have much influence on the model prediction. As an extreme, if we have a variance of 0 in a feature across all samples, i.e. we have the same value for this feature in all samples, then this feature cannot be used to distinguish samples and is useless as a predictor.\n",
    "\n",
    "However, the converse is not true. A high variance in a feature does not necessarily mean that it is a good predictor. You could imagine a feature that just contains noise with high amplitude. It might have high variance, but is meaningless. Or you can have a feature that has high variance but no influence on the outcome. For example, would hair length in cm have any influence on a baseball players salary? That said, variance can be a useful measure of the strength of a predictor.\n",
    "\n",
    "The variance of a set of features is given by:\n",
    "\n",
    "$$\n",
    "S_{i}^{2} = \\frac{\\sum_{j=1}^n\\left(\\textbf{X}_{i,j} - \\overline{\\textbf{X}}_i \\right)^2}{n - 1}\n",
    "$$\n",
    "\n",
    "where $\\textbf{X}_{i,j}$ is the $j$'th sample of the $i$'th feature, $\\overline{\\textbf{X}}_i$ is the mean of all the samples of the $i$'th feature, and $n$ is the total number of samples.\n",
    "\n",
    "Variance thresholding doesn't examine the relationship between the feature $\\textbf{X}$ and the output $\\textbf{y}$. This has the disadvantage that you can't test if the feature actually has an influence on the output. However, even though in this case we use it in a supervised learning context, it does mean that we can use variance thresholding for unsupervised learning.\n",
    "\n",
    "#### Notes:\n",
    "1. In Part 1, we used the `StandardScaler` to scale the features. In general, this is good practice, and in the next Task where we look at PCAs, really is even required. The `StandardScaler` will make it so every feature has a variance of 1 (unless the features started out with a variance of 0 to begin with) and a mean of 0. Therefore, features scaled with `StandardScaler` are useless for thresholding on variance, as there is no practical way to distinguish them.\n",
    "2. However, we should not do `VarianceThreshold`ing on just the raw data. Have a look at the values in the training dataset. Some columns will have typically small values. It is the nature of that data, and even though they may have a large influence on the type of attack, they will have a lower variance compared to some of the other columns.\n",
    "3. So we must scale, but not using the `StandardScaler`. Here it is more appropriate to use the [`MinMaxScaler`](https://scikit-learn.org/stable/modules/generated/sklearn.preprocessing.MinMaxScaler.html), which scales all the data to the range 0 to 1 by default (though you can set any range).\n",
    "4. Note that `MinMaxScaler` can also be applied to machine learning algorithms. Just in this case, we want to use the `StandardScaler`. There is, in fact, a [whole suite of other scalers provided by scikit-learn](https://scikit-learn.org/stable/auto_examples/preprocessing/plot_all_scaling.html). Each has it's own benefits. In fact, some would say we should use `MinMaxScaler` as the default scaler, and only use `StandardScaler` if we know the distribution of the data is normal.\n",
    "\n",
    "#### Task:\n",
    "1. Fit an instance of the `MinMaxScaler` with the original `X_train` data. You will get a set of data in the range 0 to 1.\n",
    "2. It is not very intuitive what threshold of variance we should use. So it's better to plot the variances of each feature, and then decide if some of the variances are small enough to discard\n",
    "3. Use `np.var` function to calculate the variances of the features (`axis-0`). Plot the variances, and pick a value that might remove 3 or 4 of the features.\n",
    "4. .Fit the output of the `MinMaxScaler` using an object of [`sklearn.feature_selection`'s `VarianceThreshold` class](https://scikit-learn.org/stable/modules/generated/sklearn.feature_selection.VarianceThreshold.html) using this threshold\n",
    "5. `transform` the data that was scaled with the `StandardScaler`. This is an important step. Notice that we use the output of the `MinMaxScaler` to select the features, but the data we want to use is selected from the `StandardScaler`\n",
    "6. Repeat the steps of Part 1: Train an SVC with the selected features and print the accuracy.\n",
    "7. How does the accuracy compare to the the SVC with no features removed (from Part 1)?"
   ]
  },
  {
   "cell_type": "markdown",
   "metadata": {
    "deletable": false,
    "editable": false,
    "tags": []
   },
   "source": [
    "<span style=\"color:red\">Insert your code below</span>."
   ]
  },
  {
   "cell_type": "code",
   "execution_count": 7,
   "metadata": {},
   "outputs": [
    {
     "name": "stdout",
     "output_type": "stream",
     "text": [
      "[[0.00000000e+00 1.28631990e-06 0.00000000e+00 ... 0.00000000e+00\n",
      "  5.00000000e-02 0.00000000e+00]\n",
      " [0.00000000e+00 3.82490236e-07 0.00000000e+00 ... 0.00000000e+00\n",
      "  0.00000000e+00 0.00000000e+00]\n",
      " [0.00000000e+00 0.00000000e+00 0.00000000e+00 ... 1.00000000e+00\n",
      "  0.00000000e+00 0.00000000e+00]\n",
      " ...\n",
      " [0.00000000e+00 0.00000000e+00 0.00000000e+00 ... 0.00000000e+00\n",
      "  1.00000000e+00 1.00000000e+00]\n",
      " [0.00000000e+00 0.00000000e+00 0.00000000e+00 ... 1.00000000e+00\n",
      "  0.00000000e+00 0.00000000e+00]\n",
      " [0.00000000e+00 0.00000000e+00 0.00000000e+00 ... 1.00000000e+00\n",
      "  0.00000000e+00 0.00000000e+00]]\n"
     ]
    },
    {
     "data": {
      "image/png": "[encoded data removed]",
      "text/plain": [
       "<Figure size 1000x600 with 1 Axes>"
      ]
     },
     "metadata": {},
     "output_type": "display_data"
    }
   ],
   "source": [
    "from sklearn.feature_selection import VarianceThreshold\n",
    "from sklearn.preprocessing import MinMaxScaler\n",
    "import matplotlib.pyplot as plt\n",
    "import numpy as np\n",
    "\n",
    "####################################\n",
    "# Your code here\n",
    "scaler = MinMaxScaler()\n",
    "\n",
    "# Fit the scaler on the original training data\n",
    "scaler.fit(train_X)\n",
    "\n",
    "# Transform the training data to the range [0, 1]\n",
    "X_train_scaled = scaler.transform(train_X)\n",
    "\n",
    "\n",
    "# Print scaled\n",
    "print(X_train_scaled)\n",
    "\n",
    "# Calculate the variances of the features along axis 0\n",
    "variances = np.var(X_train_scaled, axis=0)\n",
    "\n",
    "# Plot the variances\n",
    "plt.figure(figsize=(10, 6))\n",
    "plt.bar(range(len(variances)), variances)\n",
    "plt.xlabel('Feature Index')\n",
    "plt.ylabel('Variance')\n",
    "plt.title('Feature Variances')\n",
    "plt.show()\n",
    "\n",
    "# Fit the output of the `MinMaxScaler`\n",
    "selector_V = VarianceThreshold(threshold=0.1)\n",
    "selector_V.fit(X_train_scaled)\n",
    "\n",
    "X_train_selector_scaled = selector_V.transform(train_X_scaled)\n",
    "X_test_selector_scaled = selector_V.transform(test_X_scaled)\n",
    "\n",
    "\n"
   ]
  },
  {
   "cell_type": "code",
   "execution_count": 8,
   "metadata": {},
   "outputs": [
    {
     "name": "stdout",
     "output_type": "stream",
     "text": [
      "Confusion Matrix:\n",
      "[[9620   20   71    0    0]\n",
      " [2163 5388   85    0    0]\n",
      " [ 854  793  776    0    0]\n",
      " [2549    7   18    0    0]\n",
      " [  79    1  120    0    0]]\n",
      "Accuracy Score: 0.7001419446415897\n"
     ]
    }
   ],
   "source": [
    "from sklearn.svm import SVC\n",
    "\n",
    "# Create an SVC model with a linear kernel\n",
    "model_2 = SVC(kernel='linear')\n",
    "\n",
    "# Fit the model to the training data\n",
    "model_2.fit(X_train_selector_scaled, train_Y)\n",
    "\n",
    "# Prediction\n",
    "prediction_V = model_2.predict(X_test_selector_scaled)\n",
    "\n",
    "# Calculate the confusion matrix\n",
    "confusion_V = confusion_matrix(test_Y, prediction_V)\n",
    "\n",
    "# Calculate the accuracy score\n",
    "accuracy_V = accuracy_score(test_Y, prediction_V)\n",
    "\n",
    "# Print the confusion matrix and accuracy score\n",
    "print(\"Confusion Matrix:\")\n",
    "print(confusion_V)\n",
    "\n",
    "print(\"Accuracy Score:\", accuracy_V)"
   ]
  },
  {
   "cell_type": "markdown",
   "metadata": {
    "deletable": false,
    "editable": false,
    "tags": []
   },
   "source": [
    "<span style=\"color:red\">Insert your text answers below</span>."
   ]
  },
  {
   "cell_type": "markdown",
   "metadata": {},
   "source": [
    "7. The Accuracy is a little bit lower as compared to part 1. The higher the threshold the lower the accuracy is as compared to part 1 because a higher threshold deducts more features."
   ]
  },
  {
   "cell_type": "markdown",
   "metadata": {},
   "source": [
    "\n",
    "\n"
   ]
  },
  {
   "cell_type": "markdown",
   "metadata": {
    "deletable": false,
    "editable": false,
    "tags": []
   },
   "source": [
    "### Part 3: Univariate Feature Selection - `f_classif`\n",
    "\n",
    "Univariate feature selection works by performing statistical tests on each of the features (i.e. on each column in our dataset). There are a [few options provided by `scikit-learn`](https://scikit-learn.org/stable/modules/feature_selection.html#univariate-feature-selection). We will use the [`SelectKBest` functionality](https://scikit-learn.org/stable/modules/generated/sklearn.feature_selection.SelectKBest.html), which allows us to pick \"the top\" `K` features per the metric we select. To pick the top features, we will use the [`f_classif` function](https://scikit-learn.org/stable/modules/generated/sklearn.feature_selection.f_classif.html), as we are doing a classification. `f_classif` uses the ANOVA F-value to determine features to select. More info on ANOVA is available [here](https://datascience.stackexchange.com/questions/74465/how-to-understand-anova-f-for-feature-selection-in-python-sklearn-selectkbest-w).\n",
    "\n",
    "The `SelectKBest` functionality coupled with `f_classif`, will use this score to pick the `K` top features.\n",
    "\n",
    "#### Task:\n",
    "1. Loop over the total count of features (i.e. for variable `k` from 1 to 31)\n",
    "2. Use the [`SelectKBest` class](https://scikit-learn.org/stable/modules/generated/sklearn.feature_selection.SelectKBest.html) with [`f_classif`](https://scikit-learn.org/stable/modules/generated/sklearn.feature_selection.f_classif.html) to pick the top `k` features from our dataset\n",
    "3. Train a new SVM classification with features transformed with the `SelectKBest` object you just created (note: both train and test data have to be transformed)\n",
    "4. Use the `accuracy_score` function to get the accuracy at each iteration\n",
    "5. Repeat steps 2 to 4 for each value of `k`.\n",
    "6. Then plot the accuracy versus number of features in a single plot\n",
    "7. Given this data, discuss the number of features you might use in a final solution? (Use markdown - no wrong answer here)\n",
    "8. How doe the \"best\" accuracy value compare with the SVM before removing any features? \n",
    "\n",
    "this will take a few minutes to run, go get a coffee!"
   ]
  },
  {
   "cell_type": "markdown",
   "metadata": {},
   "source": [
    "<span style=\"color:red\">Insert your code below</span>."
   ]
  },
  {
   "cell_type": "code",
   "execution_count": 12,
   "metadata": {},
   "outputs": [
    {
     "name": "stdout",
     "output_type": "stream",
     "text": [
      "k=1: Accuracy=0.6269517388218595\n",
      "k=2: Accuracy=0.6274396735273243\n",
      "k=3: Accuracy=0.6419002838892832\n",
      "k=4: Accuracy=0.6438076650106459\n",
      "k=5: Accuracy=0.6460699077359829\n",
      "k=6: Accuracy=0.6477111426543648\n",
      "k=7: Accuracy=0.6024219304471257\n",
      "k=8: Accuracy=0.647888573456352\n",
      "k=9: Accuracy=0.6479329311568488\n",
      "k=10: Accuracy=0.6479329311568488\n",
      "k=11: Accuracy=0.6529453513129879\n",
      "k=12: Accuracy=0.6526348474095103\n",
      "k=13: Accuracy=0.6527679205110007\n",
      "k=14: Accuracy=0.6526348474095103\n",
      "k=15: Accuracy=0.6524130589070263\n",
      "k=16: Accuracy=0.6525017743080199\n",
      "k=17: Accuracy=0.6523243435060326\n",
      "k=18: Accuracy=0.6523687012065295\n",
      "k=19: Accuracy=0.6523243435060326\n",
      "k=20: Accuracy=0.6521912704045423\n",
      "k=21: Accuracy=0.6113821859474805\n",
      "k=22: Accuracy=0.4304914833215046\n",
      "k=23: Accuracy=0.4304914833215046\n",
      "k=24: Accuracy=0.4304914833215046\n",
      "k=25: Accuracy=0.4304914833215046\n",
      "k=26: Accuracy=0.4304914833215046\n",
      "k=27: Accuracy=0.4304914833215046\n",
      "k=28: Accuracy=0.4304914833215046\n",
      "k=29: Accuracy=0.43066891412349184\n",
      "k=30: Accuracy=0.43066891412349184\n",
      "k=31: Accuracy=0.43066891412349184\n"
     ]
    }
   ],
   "source": [
    "from sklearn.feature_selection import SelectKBest\n",
    "from sklearn.feature_selection import f_classif\n",
    "from sklearn.svm import SVR\n",
    "from sklearn.metrics import mean_squared_error\n",
    "\n",
    "####################################\n",
    "# Your code here\n",
    "# Loop over the total count of features (31 in this case)\n",
    "accuracies = []\n",
    "for k in range(1, 32):\n",
    "     \n",
    "    selector = SelectKBest(score_func=f_classif, k=k)\n",
    "    train_X_selectedk = selector.fit_transform(train_X, train_Y)\n",
    "    test_X_selectedk = selector.transform(test_X)\n",
    "\n",
    "    # Step 2: Train SVM classifier\n",
    "    svm_dk = SVC()\n",
    "    svm_dk.fit(train_X_selectedk, train_Y)\n",
    "\n",
    "    # Step 3: Make predictions on test data\n",
    "    predictions_selected = svm_dk.predict(test_X_selectedk)\n",
    "\n",
    "    # Step 4: Calculate accuracy\n",
    "    accuracy = accuracy_score(test_Y, predictions_selected)\n",
    "    accuracies.append(accuracy)\n",
    "    print(f'k={k}: Accuracy={accuracy}')\n",
    "\n"
   ]
  },
  {
   "cell_type": "code",
   "execution_count": 13,
   "metadata": {},
   "outputs": [
    {
     "data": {
      "image/png": "[encoded data removed]",
      "text/plain": [
       "<Figure size 1000x600 with 1 Axes>"
      ]
     },
     "metadata": {},
     "output_type": "display_data"
    }
   ],
   "source": [
    "import matplotlib.pyplot as plt\n",
    "\n",
    "####################################\n",
    "# Your code here\n",
    "# Plot the accuracy versus k\n",
    "plt.figure(figsize=(10, 6))\n",
    "plt.plot(range(1, 32), accuracies, marker='x', linestyle='-')\n",
    "plt.title('Accuracy vs. Number of Features (k)')\n",
    "plt.xlabel('Number of Features (k)')\n",
    "plt.ylabel('Accuracy')\n",
    "plt.grid(True)\n",
    "plt.show()\n"
   ]
  },
  {
   "cell_type": "markdown",
   "metadata": {
    "deletable": false,
    "editable": false,
    "tags": []
   },
   "source": [
    "<span style=\"color:red\">Insert your question answers below</span>."
   ]
  },
  {
   "cell_type": "markdown",
   "metadata": {},
   "source": [
    "7. I might use 21 features for my final solution, which are all above 0.6 accuracy\n",
    "8. The best accuracy (0.6527679205110007) is significantly lower than the accuracy before features are removed (0.7308818310858765)"
   ]
  },
  {
   "cell_type": "markdown",
   "metadata": {},
   "source": [
    "\n",
    "\n",
    "\n"
   ]
  },
  {
   "cell_type": "markdown",
   "metadata": {
    "deletable": false,
    "editable": false,
    "tags": []
   },
   "source": [
    "# Task 2: Dimensionality Reduction via PCA\n",
    "\n",
    "PCA is one of the most commonly used unsupervised transforms, and one of the most commmon means to manipulate data for machine learning. You touched on the PCA in E-tivity 2, where we investigated linear algebra. Here we will use it to reduce the numbers of features needed for a machine learning algorithm.\n",
    "\n",
    "In the last task, we removed features. The first part, we just used some statistics on the features themselves, in independence of the other features and of the output. Then, we looked at the correlation between features and the output. \n",
    "\n",
    "What PCA does is look at correlations *between features*. If we have high correlation between two or more features, PCA will find vectors in the feature space that best describe all features. It doesn't remove features, rather it creates a new feature space, and projects all samples to this feature space. The basis of the new feature space is a linear combination of the original features. Maybe a bit crudely, you can think of it as combining features.\n",
    "\n",
    "Let's look at an example. Here is the first few rows of the dataset."
   ]
  },
  {
   "cell_type": "code",
   "execution_count": 9,
   "metadata": {
    "deletable": false,
    "editable": false,
    "tags": []
   },
   "outputs": [
    {
     "data": {
      "text/html": [
       "<div>\n",
       "<style scoped>\n",
       "    .dataframe tbody tr th:only-of-type {\n",
       "        vertical-align: middle;\n",
       "    }\n",
       "\n",
       "    .dataframe tbody tr th {\n",
       "        vertical-align: top;\n",
       "    }\n",
       "\n",
       "    .dataframe thead th {\n",
       "        text-align: right;\n",
       "    }\n",
       "</style>\n",
       "<table border=\"1\" class=\"dataframe\">\n",
       "  <thead>\n",
       "    <tr style=\"text-align: right;\">\n",
       "      <th></th>\n",
       "      <th>duration</th>\n",
       "      <th>protocol_type</th>\n",
       "      <th>service</th>\n",
       "      <th>flag</th>\n",
       "      <th>src_bytes</th>\n",
       "      <th>dst_bytes</th>\n",
       "      <th>land</th>\n",
       "      <th>wrong_fragment</th>\n",
       "      <th>urgent</th>\n",
       "      <th>hot</th>\n",
       "      <th>...</th>\n",
       "      <th>dst_host_same_srv_rate</th>\n",
       "      <th>dst_host_diff_srv_rate</th>\n",
       "      <th>dst_host_same_src_port_rate</th>\n",
       "      <th>dst_host_srv_diff_host_rate</th>\n",
       "      <th>dst_host_serror_rate</th>\n",
       "      <th>dst_host_srv_serror_rate</th>\n",
       "      <th>dst_host_rerror_rate</th>\n",
       "      <th>dst_host_srv_rerror_rate</th>\n",
       "      <th>attack_category</th>\n",
       "      <th>attack_binary</th>\n",
       "    </tr>\n",
       "  </thead>\n",
       "  <tbody>\n",
       "    <tr>\n",
       "      <th>0</th>\n",
       "      <td>0</td>\n",
       "      <td>tcp</td>\n",
       "      <td>ftp_data</td>\n",
       "      <td>SF</td>\n",
       "      <td>491</td>\n",
       "      <td>0</td>\n",
       "      <td>0</td>\n",
       "      <td>0</td>\n",
       "      <td>0</td>\n",
       "      <td>0</td>\n",
       "      <td>...</td>\n",
       "      <td>0.17</td>\n",
       "      <td>0.03</td>\n",
       "      <td>0.17</td>\n",
       "      <td>0.00</td>\n",
       "      <td>0.00</td>\n",
       "      <td>0.00</td>\n",
       "      <td>0.05</td>\n",
       "      <td>0.00</td>\n",
       "      <td>benign</td>\n",
       "      <td>0</td>\n",
       "    </tr>\n",
       "    <tr>\n",
       "      <th>1</th>\n",
       "      <td>0</td>\n",
       "      <td>udp</td>\n",
       "      <td>other</td>\n",
       "      <td>SF</td>\n",
       "      <td>146</td>\n",
       "      <td>0</td>\n",
       "      <td>0</td>\n",
       "      <td>0</td>\n",
       "      <td>0</td>\n",
       "      <td>0</td>\n",
       "      <td>...</td>\n",
       "      <td>0.00</td>\n",
       "      <td>0.60</td>\n",
       "      <td>0.88</td>\n",
       "      <td>0.00</td>\n",
       "      <td>0.00</td>\n",
       "      <td>0.00</td>\n",
       "      <td>0.00</td>\n",
       "      <td>0.00</td>\n",
       "      <td>benign</td>\n",
       "      <td>0</td>\n",
       "    </tr>\n",
       "    <tr>\n",
       "      <th>2</th>\n",
       "      <td>0</td>\n",
       "      <td>tcp</td>\n",
       "      <td>private</td>\n",
       "      <td>S0</td>\n",
       "      <td>0</td>\n",
       "      <td>0</td>\n",
       "      <td>0</td>\n",
       "      <td>0</td>\n",
       "      <td>0</td>\n",
       "      <td>0</td>\n",
       "      <td>...</td>\n",
       "      <td>0.10</td>\n",
       "      <td>0.05</td>\n",
       "      <td>0.00</td>\n",
       "      <td>0.00</td>\n",
       "      <td>1.00</td>\n",
       "      <td>1.00</td>\n",
       "      <td>0.00</td>\n",
       "      <td>0.00</td>\n",
       "      <td>dos</td>\n",
       "      <td>1</td>\n",
       "    </tr>\n",
       "    <tr>\n",
       "      <th>3</th>\n",
       "      <td>0</td>\n",
       "      <td>tcp</td>\n",
       "      <td>http</td>\n",
       "      <td>SF</td>\n",
       "      <td>232</td>\n",
       "      <td>8153</td>\n",
       "      <td>0</td>\n",
       "      <td>0</td>\n",
       "      <td>0</td>\n",
       "      <td>0</td>\n",
       "      <td>...</td>\n",
       "      <td>1.00</td>\n",
       "      <td>0.00</td>\n",
       "      <td>0.03</td>\n",
       "      <td>0.04</td>\n",
       "      <td>0.03</td>\n",
       "      <td>0.01</td>\n",
       "      <td>0.00</td>\n",
       "      <td>0.01</td>\n",
       "      <td>benign</td>\n",
       "      <td>0</td>\n",
       "    </tr>\n",
       "    <tr>\n",
       "      <th>4</th>\n",
       "      <td>0</td>\n",
       "      <td>tcp</td>\n",
       "      <td>http</td>\n",
       "      <td>SF</td>\n",
       "      <td>199</td>\n",
       "      <td>420</td>\n",
       "      <td>0</td>\n",
       "      <td>0</td>\n",
       "      <td>0</td>\n",
       "      <td>0</td>\n",
       "      <td>...</td>\n",
       "      <td>1.00</td>\n",
       "      <td>0.00</td>\n",
       "      <td>0.00</td>\n",
       "      <td>0.00</td>\n",
       "      <td>0.00</td>\n",
       "      <td>0.00</td>\n",
       "      <td>0.00</td>\n",
       "      <td>0.00</td>\n",
       "      <td>benign</td>\n",
       "      <td>0</td>\n",
       "    </tr>\n",
       "    <tr>\n",
       "      <th>5</th>\n",
       "      <td>0</td>\n",
       "      <td>tcp</td>\n",
       "      <td>private</td>\n",
       "      <td>REJ</td>\n",
       "      <td>0</td>\n",
       "      <td>0</td>\n",
       "      <td>0</td>\n",
       "      <td>0</td>\n",
       "      <td>0</td>\n",
       "      <td>0</td>\n",
       "      <td>...</td>\n",
       "      <td>0.07</td>\n",
       "      <td>0.07</td>\n",
       "      <td>0.00</td>\n",
       "      <td>0.00</td>\n",
       "      <td>0.00</td>\n",
       "      <td>0.00</td>\n",
       "      <td>1.00</td>\n",
       "      <td>1.00</td>\n",
       "      <td>dos</td>\n",
       "      <td>1</td>\n",
       "    </tr>\n",
       "    <tr>\n",
       "      <th>6</th>\n",
       "      <td>0</td>\n",
       "      <td>tcp</td>\n",
       "      <td>private</td>\n",
       "      <td>S0</td>\n",
       "      <td>0</td>\n",
       "      <td>0</td>\n",
       "      <td>0</td>\n",
       "      <td>0</td>\n",
       "      <td>0</td>\n",
       "      <td>0</td>\n",
       "      <td>...</td>\n",
       "      <td>0.04</td>\n",
       "      <td>0.05</td>\n",
       "      <td>0.00</td>\n",
       "      <td>0.00</td>\n",
       "      <td>1.00</td>\n",
       "      <td>1.00</td>\n",
       "      <td>0.00</td>\n",
       "      <td>0.00</td>\n",
       "      <td>dos</td>\n",
       "      <td>1</td>\n",
       "    </tr>\n",
       "    <tr>\n",
       "      <th>7</th>\n",
       "      <td>0</td>\n",
       "      <td>tcp</td>\n",
       "      <td>private</td>\n",
       "      <td>S0</td>\n",
       "      <td>0</td>\n",
       "      <td>0</td>\n",
       "      <td>0</td>\n",
       "      <td>0</td>\n",
       "      <td>0</td>\n",
       "      <td>0</td>\n",
       "      <td>...</td>\n",
       "      <td>0.06</td>\n",
       "      <td>0.07</td>\n",
       "      <td>0.00</td>\n",
       "      <td>0.00</td>\n",
       "      <td>1.00</td>\n",
       "      <td>1.00</td>\n",
       "      <td>0.00</td>\n",
       "      <td>0.00</td>\n",
       "      <td>dos</td>\n",
       "      <td>1</td>\n",
       "    </tr>\n",
       "  </tbody>\n",
       "</table>\n",
       "<p>8 rows × 42 columns</p>\n",
       "</div>"
      ],
      "text/plain": [
       "   duration protocol_type   service flag  src_bytes  dst_bytes  land  \\\n",
       "0         0           tcp  ftp_data   SF        491          0     0   \n",
       "1         0           udp     other   SF        146          0     0   \n",
       "2         0           tcp   private   S0          0          0     0   \n",
       "3         0           tcp      http   SF        232       8153     0   \n",
       "4         0           tcp      http   SF        199        420     0   \n",
       "5         0           tcp   private  REJ          0          0     0   \n",
       "6         0           tcp   private   S0          0          0     0   \n",
       "7         0           tcp   private   S0          0          0     0   \n",
       "\n",
       "   wrong_fragment  urgent  hot  ...  dst_host_same_srv_rate  \\\n",
       "0               0       0    0  ...                    0.17   \n",
       "1               0       0    0  ...                    0.00   \n",
       "2               0       0    0  ...                    0.10   \n",
       "3               0       0    0  ...                    1.00   \n",
       "4               0       0    0  ...                    1.00   \n",
       "5               0       0    0  ...                    0.07   \n",
       "6               0       0    0  ...                    0.04   \n",
       "7               0       0    0  ...                    0.06   \n",
       "\n",
       "   dst_host_diff_srv_rate  dst_host_same_src_port_rate  \\\n",
       "0                    0.03                         0.17   \n",
       "1                    0.60                         0.88   \n",
       "2                    0.05                         0.00   \n",
       "3                    0.00                         0.03   \n",
       "4                    0.00                         0.00   \n",
       "5                    0.07                         0.00   \n",
       "6                    0.05                         0.00   \n",
       "7                    0.07                         0.00   \n",
       "\n",
       "   dst_host_srv_diff_host_rate  dst_host_serror_rate  \\\n",
       "0                         0.00                  0.00   \n",
       "1                         0.00                  0.00   \n",
       "2                         0.00                  1.00   \n",
       "3                         0.04                  0.03   \n",
       "4                         0.00                  0.00   \n",
       "5                         0.00                  0.00   \n",
       "6                         0.00                  1.00   \n",
       "7                         0.00                  1.00   \n",
       "\n",
       "   dst_host_srv_serror_rate  dst_host_rerror_rate  dst_host_srv_rerror_rate  \\\n",
       "0                      0.00                  0.05                      0.00   \n",
       "1                      0.00                  0.00                      0.00   \n",
       "2                      1.00                  0.00                      0.00   \n",
       "3                      0.01                  0.00                      0.01   \n",
       "4                      0.00                  0.00                      0.00   \n",
       "5                      0.00                  1.00                      1.00   \n",
       "6                      1.00                  0.00                      0.00   \n",
       "7                      1.00                  0.00                      0.00   \n",
       "\n",
       "   attack_category  attack_binary  \n",
       "0           benign              0  \n",
       "1           benign              0  \n",
       "2              dos              1  \n",
       "3           benign              0  \n",
       "4           benign              0  \n",
       "5              dos              1  \n",
       "6              dos              1  \n",
       "7              dos              1  \n",
       "\n",
       "[8 rows x 42 columns]"
      ]
     },
     "execution_count": 9,
     "metadata": {},
     "output_type": "execute_result"
    }
   ],
   "source": [
    "train_df.head(8)"
   ]
  },
  {
   "cell_type": "markdown",
   "metadata": {
    "deletable": false,
    "editable": false,
    "tags": []
   },
   "source": [
    "Ok, so in a small handfull of features, we can spot that (perhaps) `num_root` and `num_compromised` are correlated? Let's plot a few of them that might be correlated."
   ]
  },
  {
   "cell_type": "code",
   "execution_count": 10,
   "metadata": {
    "deletable": false,
    "editable": false,
    "tags": []
   },
   "outputs": [
    {
     "data": {
      "image/png": "[encoded data removed]",
      "text/plain": [
       "<Figure size 2000x500 with 3 Axes>"
      ]
     },
     "metadata": {},
     "output_type": "display_data"
    }
   ],
   "source": [
    "import matplotlib.pyplot as plt\n",
    "\n",
    "fig, ax = plt.subplots(1, 3, figsize=(20, 5))\n",
    "fig.subplots_adjust(wspace=0.3)\n",
    "\n",
    "ax[0].scatter(train_df['num_compromised'], train_df['num_root']);\n",
    "ax[0].set(xlabel='num_compromised', ylabel='num_root')\n",
    "\n",
    "ax[1].scatter(train_df['srv_serror_rate'], train_df['serror_rate']);\n",
    "ax[1].set(xlabel='srv_serror_rate', ylabel='serror_rate')\n",
    "\n",
    "ax[2].scatter(train_df['srv_rerror_rate'], train_df['rerror_rate']);\n",
    "ax[2].set(xlabel='srv_rerror_rate', ylabel='rerror_rate')\n",
    "\n",
    "plt.show()"
   ]
  },
  {
   "cell_type": "markdown",
   "metadata": {
    "deletable": false,
    "editable": false,
    "tags": []
   },
   "source": [
    "Note that the last two plots, while there are outliers in the plots (values at 1.0), most of the data lies along the diagonal. Just the drawing doesn't show this well, though it is highly correlated.\n",
    "\n",
    "Yes, we can see that there is some correlation between the features we selected here. We can probably assume that there is a causal relationship between them - CyberSecurity specialists wish to comment?\n",
    "\n",
    "So there is certainly some redundancy here. And likely there are more hidden correlations that we don't know about!"
   ]
  },
  {
   "cell_type": "markdown",
   "metadata": {
    "deletable": false,
    "editable": false,
    "tags": []
   },
   "source": [
    "# Task\n",
    "\n",
    "On to this weeks task. We will perform PCA on the data, before training a linear SVM, and explore some more properties of it, and how it affects the machine learning algorithm.\n",
    "\n",
    "1. Run [`PCA`](https://scikit-learn.org/stable/modules/generated/sklearn.decomposition.PCA.html) on the standard scaled data. Initially, set the desired variance to keep to 95% (`n_components=0.95`, all other parameters set to default)\n",
    "2. Train a Support Vector Classification on the PCA reduced data. As with Task 1, use a linear SVM and keep all other parameters as default\n",
    "3. Try 99% and 90%\n",
    "4. Play around with desired variance to see if you can reduce the number of features while maintaining an accuracy close to the original dataset above\n",
    "\n",
    "Discuss the following points, and compare with the previous task in this e-tivity:\n",
    "\n",
    "1. How many new features are there after the PCA?\n",
    "2. Discuss the \"goodness\" of the model, compared with the one without scaling (from Task 1), by comparing the accuracy\n",
    "3. How about if we set the variance to 99%? And how about 99.9%?\n",
    "4. Can you get better accuracy with fewer features using PCA compared to dropping the features from Task 1?\n",
    "\n",
    "Note that the parameter `n_components` of `PCA` can take either a real value between 0 and 1, in which case it will pick the number of components that maintains that level of variance in the samples, or it can take an integer value, in which case it will keep that number of components."
   ]
  },
  {
   "cell_type": "markdown",
   "metadata": {
    "deletable": false,
    "editable": false,
    "tags": []
   },
   "source": [
    "<span style=\"color:red\">Insert your code below</span>."
   ]
  },
  {
   "cell_type": "code",
   "execution_count": 24,
   "metadata": {},
   "outputs": [
    {
     "name": "stdout",
     "output_type": "stream",
     "text": [
      "Number of new features after PCA: 19\n"
     ]
    }
   ],
   "source": [
    "from sklearn.decomposition import PCA\n",
    "\n",
    "####################################\n",
    "# Your code here\n",
    "pca = PCA(n_components=0.95)\n",
    "\n",
    "train_X_pca = pca.fit_transform(train_X_scaled)\n",
    "test_X_pca = pca.transform(test_X_scaled)\n",
    "\n",
    "svm_pca = SVC(kernel='linear')\n",
    "svm_pca.fit(train_X_pca, train_Y)\n",
    "\n",
    "num_new_features = train_X_pca.shape[1]\n",
    "print(f'Number of new features after PCA: {num_new_features}')"
   ]
  },
  {
   "cell_type": "code",
   "execution_count": 21,
   "metadata": {},
   "outputs": [
    {
     "name": "stdout",
     "output_type": "stream",
     "text": [
      "Accuracy for 95% variance: 0.7278655074520937\n"
     ]
    }
   ],
   "source": [
    "from sklearn.svm import SVC\n",
    "from sklearn.metrics import confusion_matrix, accuracy_score\n",
    "\n",
    "####################################\n",
    "# Your code here\n",
    "predictions_pca = svm_pca.predict(test_X_pca)\n",
    "\n",
    "# Calculate accuracy\n",
    "accuracy_pca = accuracy_score(test_Y, predictions_pca)\n",
    "print('Accuracy for 95% variance:',accuracy_pca)\n"
   ]
  },
  {
   "cell_type": "code",
   "execution_count": 23,
   "metadata": {},
   "outputs": [
    {
     "name": "stdout",
     "output_type": "stream",
     "text": [
      "Accuracy for 99% variance: 0.7301721078779276\n"
     ]
    }
   ],
   "source": [
    "####################################\n",
    "# Your code here\n",
    "\n",
    "# Keep 99% of the variance\n",
    "predictions_pca = svm_pca.predict(test_X_pca)\n",
    "\n",
    "# Calculate accuracy\n",
    "accuracy_pca = accuracy_score(test_Y, predictions_pca)\n",
    "print('Accuracy for 99% variance:', accuracy_pca)\n"
   ]
  },
  {
   "cell_type": "code",
   "execution_count": 25,
   "metadata": {},
   "outputs": [
    {
     "name": "stdout",
     "output_type": "stream",
     "text": [
      "Accuracy for 99.9% variance: 0.7297728885734563\n"
     ]
    }
   ],
   "source": [
    "####################################\n",
    "# Your code here\n",
    "\n",
    "# Keep 99.9% of the variance\n",
    "predictions_pca = svm_pca.predict(test_X_pca)\n",
    "\n",
    "# Calculate accuracy\n",
    "accuracy_pca = accuracy_score(test_Y, predictions_pca)\n",
    "print('Accuracy for 99.9% variance:', accuracy_pca)"
   ]
  },
  {
   "cell_type": "code",
   "execution_count": 27,
   "metadata": {},
   "outputs": [
    {
     "name": "stdout",
     "output_type": "stream",
     "text": [
      "Accuracy for 90% variance: 0.7263129879347054\n"
     ]
    }
   ],
   "source": [
    "####################################\n",
    "# Your code here\n",
    "\n",
    "# Keep 90% of the variance\n",
    "predictions_pca = svm_pca.predict(test_X_pca)\n",
    "\n",
    "# Calculate accuracy\n",
    "accuracy_pca = accuracy_score(test_Y, predictions_pca)\n",
    "print('Accuracy for 90% variance:', accuracy_pca)"
   ]
  },
  {
   "cell_type": "markdown",
   "metadata": {},
   "source": [
    "Created a for loop that tests out different variances from 0.5 to 0.99 and plot a graph below"
   ]
  },
  {
   "cell_type": "code",
   "execution_count": 14,
   "metadata": {},
   "outputs": [
    {
     "name": "stdout",
     "output_type": "stream",
     "text": [
      "variance_ratio=0.5: Accuracy=0.717042228530873\n",
      "variance_ratio=0.51: Accuracy=0.717042228530873\n",
      "variance_ratio=0.52: Accuracy=0.7141146202980837\n",
      "variance_ratio=0.53: Accuracy=0.7141146202980837\n",
      "variance_ratio=0.54: Accuracy=0.7141146202980837\n",
      "variance_ratio=0.55: Accuracy=0.7141146202980837\n",
      "variance_ratio=0.56: Accuracy=0.718417317246274\n",
      "variance_ratio=0.57: Accuracy=0.718417317246274\n",
      "variance_ratio=0.58: Accuracy=0.718417317246274\n",
      "variance_ratio=0.59: Accuracy=0.718417317246274\n",
      "variance_ratio=0.6: Accuracy=0.718417317246274\n",
      "variance_ratio=0.61: Accuracy=0.7225869410929737\n",
      "variance_ratio=0.62: Accuracy=0.7225869410929737\n",
      "variance_ratio=0.63: Accuracy=0.7225869410929737\n",
      "variance_ratio=0.64: Accuracy=0.7283977998580553\n",
      "variance_ratio=0.65: Accuracy=0.7283977998580553\n",
      "variance_ratio=0.66: Accuracy=0.7283977998580553\n",
      "variance_ratio=0.67: Accuracy=0.7283977998580553\n",
      "variance_ratio=0.68: Accuracy=0.7177075940383251\n",
      "variance_ratio=0.69: Accuracy=0.7177075940383251\n",
      "variance_ratio=0.7: Accuracy=0.7177075940383251\n",
      "variance_ratio=0.71: Accuracy=0.7186834634492548\n",
      "variance_ratio=0.72: Accuracy=0.7186834634492548\n",
      "variance_ratio=0.73: Accuracy=0.7186834634492548\n",
      "variance_ratio=0.74: Accuracy=0.7184616749467707\n",
      "variance_ratio=0.75: Accuracy=0.7184616749467707\n",
      "variance_ratio=0.76: Accuracy=0.7184616749467707\n",
      "variance_ratio=0.77: Accuracy=0.7184616749467707\n",
      "variance_ratio=0.78: Accuracy=0.7184616749467707\n",
      "variance_ratio=0.79: Accuracy=0.7184616749467707\n",
      "variance_ratio=0.8: Accuracy=0.7184616749467707\n",
      "variance_ratio=0.81: Accuracy=0.7224538679914834\n",
      "variance_ratio=0.82: Accuracy=0.7224538679914834\n",
      "variance_ratio=0.83: Accuracy=0.7224538679914834\n",
      "variance_ratio=0.84: Accuracy=0.7227200141944642\n",
      "variance_ratio=0.85: Accuracy=0.7227200141944642\n",
      "variance_ratio=0.86: Accuracy=0.7227200141944642\n",
      "variance_ratio=0.87: Accuracy=0.7238289567068843\n",
      "variance_ratio=0.88: Accuracy=0.7238289567068843\n",
      "variance_ratio=0.89: Accuracy=0.7238289567068843\n",
      "variance_ratio=0.9: Accuracy=0.7263129879347054\n",
      "variance_ratio=0.91: Accuracy=0.7263129879347054\n",
      "variance_ratio=0.92: Accuracy=0.7261799148332151\n",
      "variance_ratio=0.93: Accuracy=0.7261799148332151\n",
      "variance_ratio=0.94: Accuracy=0.7267565649396736\n",
      "variance_ratio=0.95: Accuracy=0.7278655074520937\n",
      "variance_ratio=0.96: Accuracy=0.728708303761533\n",
      "variance_ratio=0.97: Accuracy=0.728708303761533\n",
      "variance_ratio=0.98: Accuracy=0.7313697657913414\n",
      "variance_ratio=0.99: Accuracy=0.7301721078779276\n",
      "variance_ratio=0.999: Accuracy=0.7297728885734563\n"
     ]
    },
    {
     "data": {
      "image/png": "[encoded data removed]",
      "text/plain": [
       "<Figure size 1500x1000 with 1 Axes>"
      ]
     },
     "metadata": {},
     "output_type": "display_data"
    }
   ],
   "source": [
    "# Created a for loop that tests out different variances from 0.5 to 0.99 and plot a graph below\n",
    "pca_accuracies = []\n",
    "variance_ratios = [0.50, 0.51, 0.52, 0.53, 0.54, 0.55, 0.56, 0.57, 0.58, 0.59, \n",
    "0.60, 0.61, 0.62, 0.63, 0.64, 0.65, 0.66, 0.67, 0.68, 0.69, \n",
    "0.70, 0.71, 0.72, 0.73, 0.74, 0.75, 0.76, 0.77, 0.78, 0.79, \n",
    "0.80, 0.81, 0.82, 0.83, 0.84, 0.85, 0.86, 0.87, 0.88, 0.89, \n",
    "0.90, 0.91, 0.92, 0.93, 0.94, 0.95, 0.96, 0.97, 0.98, 0.99, 0.999]\n",
    "\n",
    "for variance_ratio in variance_ratios:\n",
    "     \n",
    "   pca_loop = PCA(n_components=variance_ratio)\n",
    "\n",
    "   train_X_pca = pca_loop.fit_transform(train_X_scaled)\n",
    "   test_X_pca = pca_loop.transform(test_X_scaled)\n",
    "\n",
    "   svm_pca_loop = SVC(kernel='linear')\n",
    "   svm_pca_loop.fit(train_X_pca, train_Y)\n",
    "   predictions_pca_loop = svm_pca_loop.predict(test_X_pca)\n",
    "\n",
    "   # Calculate accuracy\n",
    "   accuracy_pca_loop = accuracy_score(test_Y, predictions_pca_loop)\n",
    "   pca_accuracies.append(accuracy_pca_loop)\n",
    "   print(f'variance_ratio={variance_ratio}: Accuracy={accuracy_pca_loop}')\n",
    "\n",
    "####################################\n",
    "# Your code here\n",
    "plt.figure(figsize=(15, 10))\n",
    "plt.plot(variance_ratios, pca_accuracies, marker='o', linestyle='-')\n",
    "plt.title('Accuracy vs. Variance')\n",
    "plt.xlabel('Variance Ratio')\n",
    "plt.ylabel('Accuracy')\n",
    "plt.grid(True)\n",
    "plt.show()"
   ]
  },
  {
   "cell_type": "markdown",
   "metadata": {},
   "source": [
    "<span style=\"color:red\">Insert your text answers below</span>."
   ]
  },
  {
   "cell_type": "markdown",
   "metadata": {},
   "source": [
    "1. How many new features are there after the PCA?\n",
    "\n",
    "   With n_components set to 0.95, PCA should retain enough components to account for 95% of the variation in the data.\n",
    "   I examined the n_components_ attribute of the fitted PCA object to determine the number of additional features that result from the PCA transformation.\n",
    "   After the PCA transformation, the number of new features will be provided by the train_X_pca.shape[1]. The number of primary components that were kept in order to account for 95% of the variation in the initial data is represented by this number. Number of new features after PCA(n_components = 0.95) is 19. But without assigning a variance PCA() the number of new features is 31.\n",
    "\n",
    "2. Discuss the \"goodness\" of the model, compared with the one without scaling (from Task 1), by comparing the accuracy\n",
    "   \n",
    "   PCA with Standard Scaling has a higher accuracy as indicated by the results above. The accuracies for PCA range from 0.71 to 0.73 basically and the accuracies of the un-scaled data in Task 1 Univariate Feature Selection range from 0.43 to 0.652. It indicates that the preprocessing steps, including scaling and dimensionality reduction using PCA, have improved the model's performance. Therefore i consider this model to be good.  \n",
    "\n",
    "3. How about if we set the variance to 99%? And how about 99.9%?\n",
    "\n",
    "   When the variance is set to 99% the accuracy is 0.7301721078779276 and when the variance is set to 99.9% the accuracy drops to               0.7297728885734563 which is a difference of approximately 0.0003992193044713 (error index). This may be due to overfitting, overfitting may result from keeping too many components (nearer to the initial number of features). When a model overfits, it becomes less accurate because it may not generalise effectively to new data after learning the noise in the training set.\n",
    "\n",
    "4. Can you get better accuracy with fewer features using PCA compared to dropping the features from Task 1?\n",
    "   \n",
    "   Yes, I get a better accuracy with fewer features in PCA and compared to droping features in Task 1. A PCA variancy of 0.50 gave (has 4 features) gave me a an accuracy of 0.717042228530873, however in feature varience in task 1, when i assigned a variance threshold of 0.1 the accuracy was 0.7001419446415897.\n",
    "\n",
    "\n",
    "\n",
    "\n"
   ]
  },
  {
   "cell_type": "markdown",
   "metadata": {},
   "source": [
    "# Task 3: Exploration\n",
    "\n",
    "## Feature Selection\n",
    "### Feature Importance from Tree-based Models\n",
    "The fitted attribute feature_importances_ provides the feature importances, which are computed as the mean and standard deviation of the impurity decrease accumulation within each tree. When it comes to features with high cardinality (many unique values), impurity-based feature importances might be deceptive[1]. Value of Features Based on Tree-based In scikit-learn, the term \"models\" refers to a method for evaluating how each individual feature affects the predictive ability of decision tree-based models, like Gradient Boosting Machines or Random Forests. These models divide the input at each node using characteristics to create hierarchical tree structures upon which to base their judgements. When building the trees, a feature's significance is determined by how well it reduces impurity or increases information acquisition. A trained tree-based model in scikit-learn yields a ranked list of feature importances; higher values denote greater significance. This is done via the feature_importances_ property. A sample code is provided below attached to the current dataset:"
   ]
  },
  {
   "cell_type": "code",
   "execution_count": 13,
   "metadata": {},
   "outputs": [
    {
     "name": "stdout",
     "output_type": "stream",
     "text": [
      "(31,)\n"
     ]
    }
   ],
   "source": [
    "from sklearn.ensemble import RandomForestClassifier\n",
    "\n",
    "model_forest = RandomForestClassifier()\n",
    "model_forest.fit(train_X_scaled, train_Y)\n",
    "feature_importances = model_forest.feature_importances_\n",
    "print(feature_importances.shape)"
   ]
  },
  {
   "cell_type": "markdown",
   "metadata": {},
   "source": [
    "### L1 Regularization (LASSO)\n",
    "L1 Regularisation, sometimes referred to as LASSO (Least Absolute Shrinkage and Selection Operator), is a regularisation method used in scikit-learn for linear models that creates sparsity in the feature space and inhibits overfitting. The linear regression cost function gains a new term in L1 Regularisation that is proportionate to the absolute values of the model coefficients[2]. During training, the total of the absolute values of the coefficients is penalised by this regularisation term. Thus, feature selection is effectively carried out via L1 Regularisation, which has a tendency to drive some of the coefficients exactly to zero. The regularisation strength hyperparameter (alpha) regulates the level of regularisation. Greater regularisation and a greater number of zeroed-out coefficients are associated with larger alpha values. When a dataset has a large number of characteristics, LASSO can be especially helpful since it can automatically discover and choose the most pertinent features for prediction, making the model easier to understand and more straightforward. A sample code is provided below attached to the current dataset:\n"
   ]
  },
  {
   "cell_type": "code",
   "execution_count": 14,
   "metadata": {},
   "outputs": [
    {
     "data": {
      "text/html": [
       "<style>#sk-container-id-1 {color: black;}#sk-container-id-1 pre{padding: 0;}#sk-container-id-1 div.sk-toggleable {background-color: white;}#sk-container-id-1 label.sk-toggleable__label {cursor: pointer;display: block;width: 100%;margin-bottom: 0;padding: 0.3em;box-sizing: border-box;text-align: center;}#sk-container-id-1 label.sk-toggleable__label-arrow:before {content: \"▸\";float: left;margin-right: 0.25em;color: #696969;}#sk-container-id-1 label.sk-toggleable__label-arrow:hover:before {color: black;}#sk-container-id-1 div.sk-estimator:hover label.sk-toggleable__label-arrow:before {color: black;}#sk-container-id-1 div.sk-toggleable__content {max-height: 0;max-width: 0;overflow: hidden;text-align: left;background-color: #f0f8ff;}#sk-container-id-1 div.sk-toggleable__content pre {margin: 0.2em;color: black;border-radius: 0.25em;background-color: #f0f8ff;}#sk-container-id-1 input.sk-toggleable__control:checked~div.sk-toggleable__content {max-height: 200px;max-width: 100%;overflow: auto;}#sk-container-id-1 input.sk-toggleable__control:checked~label.sk-toggleable__label-arrow:before {content: \"▾\";}#sk-container-id-1 div.sk-estimator input.sk-toggleable__control:checked~label.sk-toggleable__label {background-color: #d4ebff;}#sk-container-id-1 div.sk-label input.sk-toggleable__control:checked~label.sk-toggleable__label {background-color: #d4ebff;}#sk-container-id-1 input.sk-hidden--visually {border: 0;clip: rect(1px 1px 1px 1px);clip: rect(1px, 1px, 1px, 1px);height: 1px;margin: -1px;overflow: hidden;padding: 0;position: absolute;width: 1px;}#sk-container-id-1 div.sk-estimator {font-family: monospace;background-color: #f0f8ff;border: 1px dotted black;border-radius: 0.25em;box-sizing: border-box;margin-bottom: 0.5em;}#sk-container-id-1 div.sk-estimator:hover {background-color: #d4ebff;}#sk-container-id-1 div.sk-parallel-item::after {content: \"\";width: 100%;border-bottom: 1px solid gray;flex-grow: 1;}#sk-container-id-1 div.sk-label:hover label.sk-toggleable__label {background-color: #d4ebff;}#sk-container-id-1 div.sk-serial::before {content: \"\";position: absolute;border-left: 1px solid gray;box-sizing: border-box;top: 0;bottom: 0;left: 50%;z-index: 0;}#sk-container-id-1 div.sk-serial {display: flex;flex-direction: column;align-items: center;background-color: white;padding-right: 0.2em;padding-left: 0.2em;position: relative;}#sk-container-id-1 div.sk-item {position: relative;z-index: 1;}#sk-container-id-1 div.sk-parallel {display: flex;align-items: stretch;justify-content: center;background-color: white;position: relative;}#sk-container-id-1 div.sk-item::before, #sk-container-id-1 div.sk-parallel-item::before {content: \"\";position: absolute;border-left: 1px solid gray;box-sizing: border-box;top: 0;bottom: 0;left: 50%;z-index: -1;}#sk-container-id-1 div.sk-parallel-item {display: flex;flex-direction: column;z-index: 1;position: relative;background-color: white;}#sk-container-id-1 div.sk-parallel-item:first-child::after {align-self: flex-end;width: 50%;}#sk-container-id-1 div.sk-parallel-item:last-child::after {align-self: flex-start;width: 50%;}#sk-container-id-1 div.sk-parallel-item:only-child::after {width: 0;}#sk-container-id-1 div.sk-dashed-wrapped {border: 1px dashed gray;margin: 0 0.4em 0.5em 0.4em;box-sizing: border-box;padding-bottom: 0.4em;background-color: white;}#sk-container-id-1 div.sk-label label {font-family: monospace;font-weight: bold;display: inline-block;line-height: 1.2em;}#sk-container-id-1 div.sk-label-container {text-align: center;}#sk-container-id-1 div.sk-container {/* jupyter's `normalize.less` sets `[hidden] { display: none; }` but bootstrap.min.css set `[hidden] { display: none !important; }` so we also need the `!important` here to be able to override the default hidden behavior on the sphinx rendered scikit-learn.org. See: https://github.com/scikit-learn/scikit-learn/issues/21755 */display: inline-block !important;position: relative;}#sk-container-id-1 div.sk-text-repr-fallback {display: none;}</style><div id=\"sk-container-id-1\" class=\"sk-top-container\"><div class=\"sk-text-repr-fallback\"><pre>LogisticRegression(penalty=&#x27;l1&#x27;, solver=&#x27;liblinear&#x27;)</pre><b>In a Jupyter environment, please rerun this cell to show the HTML representation or trust the notebook. <br />On GitHub, the HTML representation is unable to render, please try loading this page with nbviewer.org.</b></div><div class=\"sk-container\" hidden><div class=\"sk-item\"><div class=\"sk-estimator sk-toggleable\"><input class=\"sk-toggleable__control sk-hidden--visually\" id=\"sk-estimator-id-1\" type=\"checkbox\" checked><label for=\"sk-estimator-id-1\" class=\"sk-toggleable__label sk-toggleable__label-arrow\">LogisticRegression</label><div class=\"sk-toggleable__content\"><pre>LogisticRegression(penalty=&#x27;l1&#x27;, solver=&#x27;liblinear&#x27;)</pre></div></div></div></div></div>"
      ],
      "text/plain": [
       "LogisticRegression(penalty='l1', solver='liblinear')"
      ]
     },
     "execution_count": 14,
     "metadata": {},
     "output_type": "execute_result"
    }
   ],
   "source": [
    "from sklearn.linear_model import LogisticRegression\n",
    "\n",
    "model_lr = LogisticRegression(penalty='l1', solver='liblinear')\n",
    "model_lr.fit(train_X, train_Y)\n"
   ]
  },
  {
   "cell_type": "markdown",
   "metadata": {},
   "source": [
    "### Mutual Information\n",
    "Mutual information (MI) between two random variables is a non-negative value, which measures the dependency between the variables. It is equal to zero if and only if two random variables are independent, and higher values mean higher dependency[3]. It is implemented in scikit-learn. Mutual Information is a tool used in feature selection that quantifies the information shared between a feature and the target variable[3]. Mutual information, taking into account both linear and non-linear interactions, can assist in identifying features for classification tasks that are helpful for predicting the target class. Greater mutual information values signify more robust dependencies. The mutual_info_classif function from Scikit-learn can be used to determine the mutual information in a classification setting between each feature and the target variable. This measure is a flexible tool since it is especially helpful in situations when the relationships between the features and the target variable are complex and may not be well-captured by linear correlations. A sample code is provided below attached to the current dataset:\n",
    "\n"
   ]
  },
  {
   "cell_type": "code",
   "execution_count": 16,
   "metadata": {},
   "outputs": [
    {
     "name": "stdout",
     "output_type": "stream",
     "text": [
      "[0.05654485 0.71149937 0.45978288 0.01465508 0.00439159 0.01931402\n",
      " 0.00312419 0.00673696 0.00547683 0.         0.00351747 0.00276446\n",
      " 0.41678999 0.15901998 0.38689177 0.35588741 0.07179282 0.05600302\n",
      " 0.46175294 0.50431986 0.14501042 0.21150026 0.41576118 0.40328533\n",
      " 0.45411998 0.2380439  0.25469166 0.39665226 0.37370327 0.08878863\n",
      " 0.08159396]\n"
     ]
    }
   ],
   "source": [
    "from sklearn.feature_selection import mutual_info_classif\n",
    "\n",
    "scores_mi = mutual_info_classif(train_X, train_Y)\n",
    "print(scores_mi)"
   ]
  },
  {
   "cell_type": "markdown",
   "metadata": {},
   "source": [
    "## Dimensionality reduction\n",
    "### t-Distributed Stochastic Neighbor Embedding (t-SNE)\n",
    "It is a popular non-linear dimensionality reduction method for visualising high-dimensional data in a lower-dimensional environment, usually two or three dimensions, is called t-Distributed Stochastic Neighbour Embedding, or t-SNE[4]. Because it maintains the local associations between data points in the original space, t-SNE—which was developed by Laurens van der Maaten and Geoffrey Hinton—is especially useful for identifying patterns and clusters. In both the high-dimensional and low-dimensional spaces, the technique models pairwise similarities between data points and transforms the data in a way that highlights global structures while preserving the relative distances of neighbouring points[4]. As a significant tool for exploratory data analysis and understanding the underlying patterns of complex datasets, t-SNE excels in capturing complicated, non-linear correlations and is particularly helpful for visualising intricate structures in datasets, in contrast to linear methods like PCA. It is crucial to remember that t-SNE requires a lot of computing power and might not always maintain global structure as well as linear techniques. A sample code is provided below attached to the current dataset:\n"
   ]
  },
  {
   "cell_type": "code",
   "execution_count": 19,
   "metadata": {},
   "outputs": [
    {
     "name": "stdout",
     "output_type": "stream",
     "text": [
      "(25192, 2)\n"
     ]
    }
   ],
   "source": [
    "from sklearn.manifold import TSNE\n",
    "\n",
    "# Create a t-SNE model\n",
    "tsne = TSNE(n_components=2, random_state=42).fit_transform(train_X_scaled)\n",
    "print(tsne.shape)\n"
   ]
  },
  {
   "cell_type": "markdown",
   "metadata": {},
   "source": [
    "### Uniform Manifold Approximation and Projection (UMAP)\n",
    "UMAP is a relatively newer technique that combines elements of both linear and non-linear dimensionality reduction. It is known for preserving both local and global structure in the data. Uniform Manifold Approximation and Projection (UMAP) is a dimension reduction technique that can be used for visualisation similarly to t-SNE, but also for general non-linear dimension reduction[5]. The algorithm is founded on three assumptions about the data:\n",
    "\n",
    "1. The data is uniformly distributed on a Riemannian manifold;\n",
    "2. The Riemannian metric is locally constant (or can be approximated as such);\n",
    "3. The manifold is locally connected.\n"
   ]
  },
  {
   "cell_type": "code",
   "execution_count": null,
   "metadata": {},
   "outputs": [],
   "source": [
    "from umap import UMAP\n",
    "\n",
    "# Create a UMAP model\n",
    "umap_model = UMAP(n_components=2, random_state=42)\n",
    "\n",
    "# Fit and transform the data\n",
    "train_X_umap = umap_model.fit_transform(train_X_scaled)\n",
    "test_X_umap = umap_model.transform(test_X_scaled)"
   ]
  },
  {
   "cell_type": "markdown",
   "metadata": {},
   "source": [
    "### Conclusion\n",
    "It is crucial to apply diverse feature selection and dimensionality reduction strategies in machine learning since distinct datasets and situations may call for customised solutions to address particular difficulties. There isn't a single approach that works well in every situation. Selecting features improves model interpretability, lowers computational cost, and finds the most informative features. High-dimensional data can be transformed into a lower-dimensional space using dimensionality reduction techniques like PCA, t-SNE, and UMAP, which capture pertinent patterns and structures. The goals of the machine learning challenge, the underlying relationships between features, and the type of data all influence the technique selected. Through the investigation of various approaches, professionals can acquire a deeper understanding of the data, enhance model functionality, and address problems such as overfitting, multicollinearity, and computational inefficiencies. "
   ]
  },
  {
   "cell_type": "markdown",
   "metadata": {},
   "source": [
    "### Sources\n",
    "[1]. https://scikit-learn.org/stable/auto_examples/ensemble/plot_forest_importances.html#:~:text=Feature%20importances%20are%20provided%20by,impurity%20decrease%20within%20each%20tree.&text=Impurity%2Dbased%20feature%20importances%20can,features%20(many%20unique%20values).\n",
    "\n",
    "[2]. https://towardsdatascience.com/l1-and-l2-regularization-methods-ce25e7fc831c\n",
    "\n",
    "[3]. https://scikit-learn.org/stable/modules/generated/sklearn.feature_selection.mutual_info_classif.html\n",
    "\n",
    "[4]. https://scikit-learn.org/stable/modules/generated/sklearn.manifold.TSNE.html\n",
    "\n",
    "[5]. https://github.com/lmcinnes/umap"
   ]
  }
 ],
 "metadata": {
  "kernelspec": {
   "display_name": "Python 3 (ipykernel)",
   "language": "python",
   "name": "python3"
  },
  "language_info": {
   "codemirror_mode": {
    "name": "ipython",
    "version": 3
   },
   "file_extension": ".py",
   "mimetype": "text/x-python",
   "name": "python",
   "nbconvert_exporter": "python",
   "pygments_lexer": "ipython3",
   "version": "3.11.5"
  }
 },
 "nbformat": 4,
 "nbformat_minor": 4
}
